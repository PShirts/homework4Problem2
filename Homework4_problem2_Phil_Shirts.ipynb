{
 "cells": [
  {
   "cell_type": "markdown",
   "metadata": {},
   "source": [
    "**Homework Assignment 4, problem 2.:**   \n",
    "Implementing Q- Learning in OpenAI gym\n",
    "\n",
    " A car is on a one-dimensional track, positioned between two “mountains”. The goal is to drive up the mountain on the right; however, the car’s engine is not strong enough to scale the mountain in a single pass. Therefore, the only way to succeed is to drive back and forth to build up momentum.\n",
    "\n",
    "Guidance: Use OpenAI gym\n",
    "\n",
    "### Note!  This is essentially the code at:\n",
    "https://towardsdatascience.com/getting-started-with-reinforcement-learning-and-open-ai-gym-c289aca874f  \n",
    "### I worked through it line by line and did make some small changes, but it is fundamentally the same code.  Also, the only way I found to get the car graphic to work was to do this in a Jupyter notebook no my home computer, I was not able to get the car graphic to work in a Colab notebook.\n",
    "--Phil\n",
    "\n",
    "note: the github for (this version?) of the mountain car code can be found at: https://github.com/openai/gym/blob/master/gym/envs/classic_control/mountain_car.py"
   ]
  },
  {
   "cell_type": "code",
   "execution_count": 1,
   "metadata": {},
   "outputs": [],
   "source": [
    "#import necessary libraries\n",
    "import gym\n",
    "import matplotlib.pyplot as plt\n",
    "import numpy as np\n",
    "#one-time installs\n",
    "#pip install gym[all]\n",
    "#pip install pyglet"
   ]
  },
  {
   "cell_type": "code",
   "execution_count": 2,
   "metadata": {},
   "outputs": [],
   "source": [
    "#Create environment"
   ]
  },
  {
   "cell_type": "code",
   "execution_count": 3,
   "metadata": {},
   "outputs": [],
   "source": [
    "# Import and initialize Mountain Car Environment\n",
    "env = gym.make('MountainCar-v0')"
   ]
  },
  {
   "cell_type": "code",
   "execution_count": 4,
   "metadata": {},
   "outputs": [
    {
     "data": {
      "text/plain": [
       "array([-0.40234485,  0.        ], dtype=float32)"
      ]
     },
     "execution_count": 4,
     "metadata": {},
     "output_type": "execute_result"
    }
   ],
   "source": [
    "env.reset() #initialize the state of the environment"
   ]
  },
  {
   "cell_type": "code",
   "execution_count": 5,
   "metadata": {},
   "outputs": [],
   "source": [
    "#Test display only. Just for development testing to make sure image in aigym displays correctly\n",
    "#example from: https://medium.com/@ashish_fagna/understanding-openai-gym-25c79c06eccb\n",
    "#for _ in range(1000):\n",
    "#    env.render()\n",
    "#    env.step(env.action_space.sample()) # take a random action"
   ]
  },
  {
   "cell_type": "code",
   "execution_count": 6,
   "metadata": {
    "scrolled": true
   },
   "outputs": [
    {
     "name": "stdout",
     "output_type": "stream",
     "text": [
      "(array([-4.0223435e-01,  1.1051911e-04], dtype=float32), -1.0, False, {})\n"
     ]
    }
   ],
   "source": [
    "#test example only \n",
    "print(env.step(2))"
   ]
  },
  {
   "cell_type": "code",
   "execution_count": 7,
   "metadata": {},
   "outputs": [
    {
     "data": {
      "text/plain": [
       "True"
      ]
     },
     "execution_count": 7,
     "metadata": {},
     "output_type": "execute_result"
    }
   ],
   "source": [
    "#Render the display.  I think this needs to be called in each step of the loop.\n",
    "env.render()"
   ]
  },
  {
   "cell_type": "code",
   "execution_count": 8,
   "metadata": {},
   "outputs": [
    {
     "name": "stdout",
     "output_type": "stream",
     "text": [
      "[19 15]\n"
     ]
    }
   ],
   "source": [
    "#Set global data structures.  Especially Q.\n",
    "#Determine size of discretized state space and initialize the Q data structure.\n",
    "#https://towardsdatascience.com/getting-started-with-reinforcement-learning-and-open-ai-gym-c289aca874f\n",
    "num_states = (env.observation_space.high - env.observation_space.low)*np.array([10, 100])\n",
    "num_states = np.round(num_states, 0).astype(int) + 1\n",
    "print(num_states)\n",
    "# Initialize Q table\n",
    "Q = np.random.uniform(low = -1, high = 1, size = (num_states[0], num_states[1], env.action_space.n))\n",
    "#print(Q)"
   ]
  },
  {
   "cell_type": "code",
   "execution_count": 14,
   "metadata": {},
   "outputs": [],
   "source": [
    "#define QLearn method  This will be invoked once, but internally will loop num episodes times.\n",
    "\n",
    "def QLearn(env):\n",
    "    #set initial parameters before loop\n",
    "    episodes    = 5000 #try different values for episodes \n",
    "    epsilon     = 0.8 #this will change, and is just a starting point\n",
    "    min_epsilon = 0.0 #this is a threshold value that does not change during the execution of the algorithm.\n",
    "    learning    = 0.2 #0.2 == initial value in example\n",
    "    discount    = 0.9 #0.9 == initial value in example\n",
    "    #\n",
    "    #Set global data structures.  Especially Q.\n",
    "    #Determine size of discretized state space and initialize the Q data structure.\n",
    "    #https://towardsdatascience.com/getting-started-with-reinforcement-learning-and-open-ai-gym-c289aca874f\n",
    "    num_states = (env.observation_space.high - env.observation_space.low)*np.array([10, 1000])\n",
    "    num_states = np.round(num_states, 0).astype(int) + 1\n",
    "    print(num_states)\n",
    "    # Initialize Q table\n",
    "    Q = np.random.uniform(low = -1, high = 1, size = (num_states[0], num_states[1], env.action_space.n))\n",
    "    #print(Q)\n",
    "    #\n",
    "    reward_list = []\n",
    "    ave_reward_list = []\n",
    "    # Calculate episodic reduction in epsilon\n",
    "    reduction = (epsilon - min_epsilon)/episodes\n",
    "    for i in range(episodes):\n",
    "        #print(\"i ==\", i)\n",
    "        # Initialize parameters\n",
    "        done = False\n",
    "        tot_reward, reward = 0,0\n",
    "        state = env.reset()\n",
    "        # Discretize state\n",
    "        state_adj = (state - env.observation_space.low)*np.array([10, 1000])\n",
    "        state_adj = np.round(state_adj, 0).astype(int)\n",
    "    \n",
    "        #\n",
    "        done = False\n",
    "        while done != True:   \n",
    "            # Render environment for last five episodes\n",
    "            if i >= (episodes - 20):\n",
    "                #print(i)\n",
    "                env.render()\n",
    "                \n",
    "            # Determine next action - epsilon greedy strategy\n",
    "            if np.random.random() < 1 - epsilon:\n",
    "                action = np.argmax(Q[state_adj[0], state_adj[1]]) \n",
    "            else:\n",
    "                action = np.random.randint(0, env.action_space.n)\n",
    "                \n",
    "            # Get next state and reward\n",
    "            state2, reward, done, info = env.step(action) \n",
    "            \n",
    "            # Discretize state2\n",
    "            state2_adj = (state2 - env.observation_space.low)*np.array([10, 1000])\n",
    "            state2_adj = np.round(state2_adj, 0).astype(int)\n",
    "            \n",
    "            #Allow for terminal states\n",
    "            if done and state2[0] >= 0.5:\n",
    "                Q[state_adj[0], state_adj[1], action] = reward\n",
    "                \n",
    "            # Adjust Q value for current state\n",
    "            else:\n",
    "                delta = learning*(reward + discount*np.max(Q[state2_adj[0], \n",
    "                                  state2_adj[1]]) - Q[state_adj[0], \n",
    "                                  state_adj[1],action])\n",
    "                Q[state_adj[0], state_adj[1],action] += delta\n",
    "                                     \n",
    "            # Update variables\n",
    "            tot_reward += reward\n",
    "            state_adj = state2_adj\n",
    "        \n",
    "        # Decay epsilon\n",
    "        if epsilon > min_epsilon:\n",
    "            epsilon -= reduction\n",
    "        \n",
    "        # Track rewards\n",
    "        reward_list.append(tot_reward)\n",
    "        \n",
    "        if (i+1) % 500 == 0:\n",
    "            ave_reward = np.mean(reward_list)\n",
    "            ave_reward_list.append(ave_reward)\n",
    "            reward_list = []\n",
    "            \n",
    "        if (i+1) % 500 == 0:    \n",
    "            print('Episode {} Average Reward: {}'.format(i+1, ave_reward))\n",
    "        #\n",
    "        #\n",
    "    env.close()\n",
    "    return ave_reward_list"
   ]
  },
  {
   "cell_type": "code",
   "execution_count": 15,
   "metadata": {
    "scrolled": true
   },
   "outputs": [
    {
     "name": "stdout",
     "output_type": "stream",
     "text": [
      "[ 19 141]\n",
      "Episode 500 Average Reward: -200.0\n",
      "Episode 1000 Average Reward: -200.0\n",
      "Episode 1500 Average Reward: -200.0\n",
      "Episode 2000 Average Reward: -200.0\n",
      "Episode 2500 Average Reward: -200.0\n",
      "Episode 3000 Average Reward: -199.82\n",
      "Episode 3500 Average Reward: -199.424\n",
      "Episode 4000 Average Reward: -198.364\n",
      "Episode 4500 Average Reward: -197.712\n",
      "Episode 5000 Average Reward: -195.884\n"
     ]
    },
    {
     "data": {
      "image/png": "[encoded data removed]",
      "text/plain": [
       "<Figure size 432x288 with 1 Axes>"
      ]
     },
     "metadata": {
      "needs_background": "light"
     },
     "output_type": "display_data"
    }
   ],
   "source": [
    "rewards = QLearn(env)\n",
    "# Plot Rewards\n",
    "plt.plot(100*(np.arange(len(rewards)) + 1), rewards)\n",
    "plt.xlabel('Episodes')\n",
    "plt.ylabel('Average Reward')\n",
    "plt.title('Average Reward vs Episodes')\n",
    "plt.savefig('rewards.jpg')     \n",
    "#plt.close()  "
   ]
  },
  {
   "cell_type": "code",
   "execution_count": null,
   "metadata": {},
   "outputs": [],
   "source": []
  },
  {
   "cell_type": "code",
   "execution_count": null,
   "metadata": {},
   "outputs": [],
   "source": []
  }
 ],
 "metadata": {
  "kernelspec": {
   "display_name": "Python 3",
   "language": "python",
   "name": "python3"
  },
  "language_info": {
   "codemirror_mode": {
    "name": "ipython",
    "version": 3
   },
   "file_extension": ".py",
   "mimetype": "text/x-python",
   "name": "python",
   "nbconvert_exporter": "python",
   "pygments_lexer": "ipython3",
   "version": "3.8.3"
  }
 },
 "nbformat": 4,
 "nbformat_minor": 4
}
